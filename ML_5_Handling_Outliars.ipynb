{
 "cells": [
  {
   "cell_type": "markdown",
   "id": "193e7e02-eca1-4737-a759-ee2664b9b9bc",
   "metadata": {},
   "source": [
    "## Handling Outliers"
   ]
  },
  {
   "cell_type": "markdown",
   "id": "635001ac-7569-4a45-a36f-2fb009951c2a",
   "metadata": {},
   "source": [
    "### 5 number summary :\n",
    "\n",
    "##### 1.Minimum Value.\n",
    "##### 2.Q1- 25 percentile.\n",
    "##### 3.Median - 50 percentile.\n",
    "##### 4.Q3- 75 percentile.\n",
    "##### 5.Maximum Value."
   ]
  },
  {
   "cell_type": "code",
   "execution_count": 5,
   "id": "c7b158a3-98f8-4bae-8024-368270374d0b",
   "metadata": {},
   "outputs": [],
   "source": [
    "import numpy as np"
   ]
  },
  {
   "cell_type": "code",
   "execution_count": 6,
   "id": "6aafdca2-92e7-48b7-8df0-310c3c599e6c",
   "metadata": {},
   "outputs": [],
   "source": [
    "#Creating a list of marks wiht outliers\n",
    "\n",
    "list_marks = [45,32,56,75,89,54,32,89,90,67,54,45,98,99,67,74,1000, 1100]"
   ]
  },
  {
   "cell_type": "markdown",
   "id": "4e820287-c743-408d-a728-6c1c791bb61f",
   "metadata": {},
   "source": [
    "## *Finding Outlier:\n",
    "### *Creating a [Lower Fence <-----> Higher Fence]\n",
    "\n",
    "#### *Value below lower fence and value above hiigher fence will be considered as outlier"
   ]
  },
  {
   "cell_type": "code",
   "execution_count": 14,
   "id": "2e49ae61-3f3a-41da-acb7-f10aedb20ea3",
   "metadata": {},
   "outputs": [
    {
     "name": "stdout",
     "output_type": "stream",
     "text": [
      "[54.]\n"
     ]
    }
   ],
   "source": [
    "## We can find Q1,Q2,Q3,Q4 one by one.\n",
    "\n",
    "Q1 = np.percentile(list_marks , [25])\n",
    "print(Q1)"
   ]
  },
  {
   "cell_type": "code",
   "execution_count": 16,
   "id": "c4facf64-d110-4bb6-ad5a-71333237abb7",
   "metadata": {},
   "outputs": [],
   "source": [
    "## Or we can use np.quantile funcion where we can get all values at same time\n",
    "\n",
    "minimum,Q1,Q2,Q3,maximum = np.quantile(list_marks, [0, 0.25, 0.50, 0.75, 1.0])"
   ]
  },
  {
   "cell_type": "code",
   "execution_count": 17,
   "id": "ea52ff5c-2f93-40f4-a32d-f6ce134164f7",
   "metadata": {},
   "outputs": [
    {
     "data": {
      "text/plain": [
       "1100.0"
      ]
     },
     "execution_count": 17,
     "metadata": {},
     "output_type": "execute_result"
    }
   ],
   "source": [
    "maximum"
   ]
  },
  {
   "cell_type": "code",
   "execution_count": 18,
   "id": "1f6c4891-0c90-43d4-8197-c42a92cde57e",
   "metadata": {},
   "outputs": [
    {
     "data": {
      "text/plain": [
       "32.0"
      ]
     },
     "execution_count": 18,
     "metadata": {},
     "output_type": "execute_result"
    }
   ],
   "source": [
    "minimum"
   ]
  },
  {
   "cell_type": "code",
   "execution_count": 20,
   "id": "997ed81b-74dd-4f6c-acc4-25fe545d3946",
   "metadata": {},
   "outputs": [
    {
     "name": "stdout",
     "output_type": "stream",
     "text": [
      "35.75\n"
     ]
    }
   ],
   "source": [
    "\n",
    "## We have to calculate the InterQuartile Range (IQR)\n",
    "\n",
    "IQR = Q3-Q1  \n",
    "print(IQR)"
   ]
  },
  {
   "cell_type": "code",
   "execution_count": 21,
   "id": "de2b0314-a61d-4ae1-8664-00015873702c",
   "metadata": {},
   "outputs": [],
   "source": [
    "## Now Finding the lower fence \n",
    "\n",
    "lower_fence = Q1-1.5*(IQR)\n",
    "higher_fence = Q3+1.5*(IQR)"
   ]
  },
  {
   "cell_type": "code",
   "execution_count": 22,
   "id": "623db3a2-38ec-45bb-812e-f71797eddfa9",
   "metadata": {},
   "outputs": [
    {
     "data": {
      "text/plain": [
       "(0.375, 143.375)"
      ]
     },
     "execution_count": 22,
     "metadata": {},
     "output_type": "execute_result"
    }
   ],
   "source": [
    "lower_fence,higher_fence"
   ]
  },
  {
   "cell_type": "code",
   "execution_count": 32,
   "id": "cfc72396-75a7-44a9-a7a7-1c856dca7045",
   "metadata": {},
   "outputs": [
    {
     "name": "stdout",
     "output_type": "stream",
     "text": [
      "These elements are outliers [1000, 1100]\n"
     ]
    }
   ],
   "source": [
    "## finding the ouliers through the list\n",
    "\n",
    "outliers = []\n",
    "for i in list_marks:\n",
    "    if i <lower_fence or i > higher_fence:\n",
    "        outliers.append(i)\n",
    "print(f\"These elements are outliers {outliers}\")\n",
    "\n",
    "    "
   ]
  },
  {
   "cell_type": "code",
   "execution_count": 33,
   "id": "018fdbfa-76dd-4a8f-af21-e0d0bc49cd13",
   "metadata": {},
   "outputs": [
    {
     "data": {
      "text/plain": [
       "[1000, 1100]"
      ]
     },
     "execution_count": 33,
     "metadata": {},
     "output_type": "execute_result"
    }
   ],
   "source": [
    "outliers"
   ]
  },
  {
   "cell_type": "markdown",
   "id": "858c331e-86e9-4227-bcb3-06ef26225266",
   "metadata": {},
   "source": [
    "## Boxplot technique to find the Outliers:"
   ]
  },
  {
   "cell_type": "code",
   "execution_count": 34,
   "id": "39b2cda3-33c7-4187-a5be-fd9e692dabc2",
   "metadata": {},
   "outputs": [],
   "source": [
    "import seaborn as sns"
   ]
  },
  {
   "cell_type": "code",
   "execution_count": 36,
   "id": "759c613b-cd00-4314-9f66-82d1b9a97ba8",
   "metadata": {},
   "outputs": [
    {
     "data": {
      "text/plain": [
       "<AxesSubplot: >"
      ]
     },
     "execution_count": 36,
     "metadata": {},
     "output_type": "execute_result"
    },
    {
     "data": {
      "image/png": "[encoded data removed]",
      "text/plain": [
       "<Figure size 640x480 with 1 Axes>"
      ]
     },
     "metadata": {},
     "output_type": "display_data"
    }
   ],
   "source": [
    "#Creating a list of marks wiht outliers\n",
    "\n",
    "list_marks = [45,32,56,75,89,54,32,89,90,67,54,45,98,99,67,74,1000, 1100]\n",
    "\n",
    "sns.boxplot(list_marks)"
   ]
  },
  {
   "cell_type": "code",
   "execution_count": 37,
   "id": "0f30466f-ce3c-4260-bc34-06ad32b4c1d4",
   "metadata": {},
   "outputs": [
    {
     "data": {
      "text/plain": [
       "<AxesSubplot: >"
      ]
     },
     "execution_count": 37,
     "metadata": {},
     "output_type": "execute_result"
    },
    {
     "data": {
      "image/png": "[encoded data removed]",
      "text/plain": [
       "<Figure size 640x480 with 1 Axes>"
      ]
     },
     "metadata": {},
     "output_type": "display_data"
    }
   ],
   "source": [
    "#Creating a list of marks without outliers\n",
    "\n",
    "list_marks2 = [45,32,56,75,89,54,32,89,90,67,54,45,98,99,67,74]\n",
    "\n",
    "sns.boxplot(list_marks2)"
   ]
  },
  {
   "cell_type": "code",
   "execution_count": null,
   "id": "0dccf892-65e1-4d89-9130-28134fcf00c3",
   "metadata": {},
   "outputs": [],
   "source": []
  }
 ],
 "metadata": {
  "kernelspec": {
   "display_name": "Python 3 (ipykernel)",
   "language": "python",
   "name": "python3"
  },
  "language_info": {
   "codemirror_mode": {
    "name": "ipython",
    "version": 3
   },
   "file_extension": ".py",
   "mimetype": "text/x-python",
   "name": "python",
   "nbconvert_exporter": "python",
   "pygments_lexer": "ipython3",
   "version": "3.10.8"
  }
 },
 "nbformat": 4,
 "nbformat_minor": 5
}
